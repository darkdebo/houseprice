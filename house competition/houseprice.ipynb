{
 "cells": [
  {
   "cell_type": "code",
   "execution_count": 146,
   "metadata": {},
   "outputs": [
    {
     "data": {
      "text/html": [
       "<div>\n",
       "<style scoped>\n",
       "    .dataframe tbody tr th:only-of-type {\n",
       "        vertical-align: middle;\n",
       "    }\n",
       "\n",
       "    .dataframe tbody tr th {\n",
       "        vertical-align: top;\n",
       "    }\n",
       "\n",
       "    .dataframe thead th {\n",
       "        text-align: right;\n",
       "    }\n",
       "</style>\n",
       "<table border=\"1\" class=\"dataframe\">\n",
       "  <thead>\n",
       "    <tr style=\"text-align: right;\">\n",
       "      <th></th>\n",
       "      <th>Id</th>\n",
       "      <th>MSSubClass</th>\n",
       "      <th>MSZoning</th>\n",
       "      <th>LotFrontage</th>\n",
       "      <th>LotArea</th>\n",
       "      <th>Street</th>\n",
       "      <th>Alley</th>\n",
       "      <th>LotShape</th>\n",
       "      <th>LandContour</th>\n",
       "      <th>Utilities</th>\n",
       "      <th>...</th>\n",
       "      <th>PoolArea</th>\n",
       "      <th>PoolQC</th>\n",
       "      <th>Fence</th>\n",
       "      <th>MiscFeature</th>\n",
       "      <th>MiscVal</th>\n",
       "      <th>MoSold</th>\n",
       "      <th>YrSold</th>\n",
       "      <th>SaleType</th>\n",
       "      <th>SaleCondition</th>\n",
       "      <th>SalePrice</th>\n",
       "    </tr>\n",
       "  </thead>\n",
       "  <tbody>\n",
       "    <tr>\n",
       "      <td>0</td>\n",
       "      <td>1</td>\n",
       "      <td>60</td>\n",
       "      <td>RL</td>\n",
       "      <td>65.0</td>\n",
       "      <td>8450</td>\n",
       "      <td>Pave</td>\n",
       "      <td>NaN</td>\n",
       "      <td>Reg</td>\n",
       "      <td>Lvl</td>\n",
       "      <td>AllPub</td>\n",
       "      <td>...</td>\n",
       "      <td>0</td>\n",
       "      <td>NaN</td>\n",
       "      <td>NaN</td>\n",
       "      <td>NaN</td>\n",
       "      <td>0</td>\n",
       "      <td>2</td>\n",
       "      <td>2008</td>\n",
       "      <td>WD</td>\n",
       "      <td>Normal</td>\n",
       "      <td>208500</td>\n",
       "    </tr>\n",
       "    <tr>\n",
       "      <td>1</td>\n",
       "      <td>2</td>\n",
       "      <td>20</td>\n",
       "      <td>RL</td>\n",
       "      <td>80.0</td>\n",
       "      <td>9600</td>\n",
       "      <td>Pave</td>\n",
       "      <td>NaN</td>\n",
       "      <td>Reg</td>\n",
       "      <td>Lvl</td>\n",
       "      <td>AllPub</td>\n",
       "      <td>...</td>\n",
       "      <td>0</td>\n",
       "      <td>NaN</td>\n",
       "      <td>NaN</td>\n",
       "      <td>NaN</td>\n",
       "      <td>0</td>\n",
       "      <td>5</td>\n",
       "      <td>2007</td>\n",
       "      <td>WD</td>\n",
       "      <td>Normal</td>\n",
       "      <td>181500</td>\n",
       "    </tr>\n",
       "    <tr>\n",
       "      <td>2</td>\n",
       "      <td>3</td>\n",
       "      <td>60</td>\n",
       "      <td>RL</td>\n",
       "      <td>68.0</td>\n",
       "      <td>11250</td>\n",
       "      <td>Pave</td>\n",
       "      <td>NaN</td>\n",
       "      <td>IR1</td>\n",
       "      <td>Lvl</td>\n",
       "      <td>AllPub</td>\n",
       "      <td>...</td>\n",
       "      <td>0</td>\n",
       "      <td>NaN</td>\n",
       "      <td>NaN</td>\n",
       "      <td>NaN</td>\n",
       "      <td>0</td>\n",
       "      <td>9</td>\n",
       "      <td>2008</td>\n",
       "      <td>WD</td>\n",
       "      <td>Normal</td>\n",
       "      <td>223500</td>\n",
       "    </tr>\n",
       "    <tr>\n",
       "      <td>3</td>\n",
       "      <td>4</td>\n",
       "      <td>70</td>\n",
       "      <td>RL</td>\n",
       "      <td>60.0</td>\n",
       "      <td>9550</td>\n",
       "      <td>Pave</td>\n",
       "      <td>NaN</td>\n",
       "      <td>IR1</td>\n",
       "      <td>Lvl</td>\n",
       "      <td>AllPub</td>\n",
       "      <td>...</td>\n",
       "      <td>0</td>\n",
       "      <td>NaN</td>\n",
       "      <td>NaN</td>\n",
       "      <td>NaN</td>\n",
       "      <td>0</td>\n",
       "      <td>2</td>\n",
       "      <td>2006</td>\n",
       "      <td>WD</td>\n",
       "      <td>Abnorml</td>\n",
       "      <td>140000</td>\n",
       "    </tr>\n",
       "    <tr>\n",
       "      <td>4</td>\n",
       "      <td>5</td>\n",
       "      <td>60</td>\n",
       "      <td>RL</td>\n",
       "      <td>84.0</td>\n",
       "      <td>14260</td>\n",
       "      <td>Pave</td>\n",
       "      <td>NaN</td>\n",
       "      <td>IR1</td>\n",
       "      <td>Lvl</td>\n",
       "      <td>AllPub</td>\n",
       "      <td>...</td>\n",
       "      <td>0</td>\n",
       "      <td>NaN</td>\n",
       "      <td>NaN</td>\n",
       "      <td>NaN</td>\n",
       "      <td>0</td>\n",
       "      <td>12</td>\n",
       "      <td>2008</td>\n",
       "      <td>WD</td>\n",
       "      <td>Normal</td>\n",
       "      <td>250000</td>\n",
       "    </tr>\n",
       "  </tbody>\n",
       "</table>\n",
       "<p>5 rows × 81 columns</p>\n",
       "</div>"
      ],
      "text/plain": [
       "   Id  MSSubClass MSZoning  LotFrontage  LotArea Street Alley LotShape  \\\n",
       "0   1          60       RL         65.0     8450   Pave   NaN      Reg   \n",
       "1   2          20       RL         80.0     9600   Pave   NaN      Reg   \n",
       "2   3          60       RL         68.0    11250   Pave   NaN      IR1   \n",
       "3   4          70       RL         60.0     9550   Pave   NaN      IR1   \n",
       "4   5          60       RL         84.0    14260   Pave   NaN      IR1   \n",
       "\n",
       "  LandContour Utilities  ... PoolArea PoolQC Fence MiscFeature MiscVal MoSold  \\\n",
       "0         Lvl    AllPub  ...        0    NaN   NaN         NaN       0      2   \n",
       "1         Lvl    AllPub  ...        0    NaN   NaN         NaN       0      5   \n",
       "2         Lvl    AllPub  ...        0    NaN   NaN         NaN       0      9   \n",
       "3         Lvl    AllPub  ...        0    NaN   NaN         NaN       0      2   \n",
       "4         Lvl    AllPub  ...        0    NaN   NaN         NaN       0     12   \n",
       "\n",
       "  YrSold  SaleType  SaleCondition  SalePrice  \n",
       "0   2008        WD         Normal     208500  \n",
       "1   2007        WD         Normal     181500  \n",
       "2   2008        WD         Normal     223500  \n",
       "3   2006        WD        Abnorml     140000  \n",
       "4   2008        WD         Normal     250000  \n",
       "\n",
       "[5 rows x 81 columns]"
      ]
     },
     "execution_count": 146,
     "metadata": {},
     "output_type": "execute_result"
    }
   ],
   "source": [
    "import pandas as pd\n",
    "df=pd.read_csv('train.csv',nrows=1460)\n",
    "df=pd.DataFrame(df)\n",
    "df.head()"
   ]
  },
  {
   "cell_type": "code",
   "execution_count": 147,
   "metadata": {},
   "outputs": [],
   "source": [
    "feature=list(df.columns[:])"
   ]
  },
  {
   "cell_type": "code",
   "execution_count": 148,
   "metadata": {},
   "outputs": [
    {
     "data": {
      "text/plain": [
       "<matplotlib.collections.PathCollection at 0x12b0b210>"
      ]
     },
     "execution_count": 148,
     "metadata": {},
     "output_type": "execute_result"
    },
    {
     "data": {
      "image/png": "[encoded data removed]",
      "text/plain": [
       "<Figure size 432x288 with 1 Axes>"
      ]
     },
     "metadata": {
      "needs_background": "light"
     },
     "output_type": "display_data"
    }
   ],
   "source": [
    "import matplotlib.pyplot as plt\n",
    "%matplotlib inline\n",
    "\n",
    "plt.scatter(df['LotArea'],df['SalePrice'])"
   ]
  },
  {
   "cell_type": "code",
   "execution_count": 149,
   "metadata": {},
   "outputs": [
    {
     "data": {
      "text/plain": [
       "<matplotlib.collections.PathCollection at 0x12b4c170>"
      ]
     },
     "execution_count": 149,
     "metadata": {},
     "output_type": "execute_result"
    },
    {
     "data": {
      "image/png": "[encoded data removed]",
      "text/plain": [
       "<Figure size 432x288 with 1 Axes>"
      ]
     },
     "metadata": {
      "needs_background": "light"
     },
     "output_type": "display_data"
    }
   ],
   "source": [
    "plt.scatter(df['LotFrontage'],df['SalePrice'])"
   ]
  },
  {
   "cell_type": "code",
   "execution_count": 150,
   "metadata": {},
   "outputs": [
    {
     "data": {
      "text/plain": [
       "<matplotlib.collections.PathCollection at 0x12b88810>"
      ]
     },
     "execution_count": 150,
     "metadata": {},
     "output_type": "execute_result"
    },
    {
     "data": {
      "image/png": "[encoded data removed]",
      "text/plain": [
       "<Figure size 432x288 with 1 Axes>"
      ]
     },
     "metadata": {
      "needs_background": "light"
     },
     "output_type": "display_data"
    }
   ],
   "source": [
    "plt.scatter(df[feature[3]],df[feature[-1]])"
   ]
  },
  {
   "cell_type": "code",
   "execution_count": 151,
   "metadata": {},
   "outputs": [
    {
     "data": {
      "text/plain": [
       "<matplotlib.collections.PathCollection at 0x12bc5c90>"
      ]
     },
     "execution_count": 151,
     "metadata": {},
     "output_type": "execute_result"
    },
    {
     "data": {
      "image/png": "[encoded data removed]",
      "text/plain": [
       "<Figure size 432x288 with 1 Axes>"
      ]
     },
     "metadata": {
      "needs_background": "light"
     },
     "output_type": "display_data"
    }
   ],
   "source": [
    "plt.scatter(df[feature[7]],df[feature[-1]])"
   ]
  },
  {
   "cell_type": "code",
   "execution_count": 152,
   "metadata": {},
   "outputs": [
    {
     "data": {
      "text/plain": [
       "<matplotlib.collections.PathCollection at 0x12bfc650>"
      ]
     },
     "execution_count": 152,
     "metadata": {},
     "output_type": "execute_result"
    },
    {
     "data": {
      "image/png": "[encoded data removed]",
      "text/plain": [
       "<Figure size 432x288 with 1 Axes>"
      ]
     },
     "metadata": {
      "needs_background": "light"
     },
     "output_type": "display_data"
    }
   ],
   "source": [
    "plt.scatter(df['MoSold'],df[feature[-1]])"
   ]
  },
  {
   "cell_type": "code",
   "execution_count": 153,
   "metadata": {},
   "outputs": [
    {
     "data": {
      "text/plain": [
       "<matplotlib.collections.PathCollection at 0x13c01550>"
      ]
     },
     "execution_count": 153,
     "metadata": {},
     "output_type": "execute_result"
    },
    {
     "data": {
      "image/png": "[encoded data removed]",
      "text/plain": [
       "<Figure size 432x288 with 1 Axes>"
      ]
     },
     "metadata": {
      "needs_background": "light"
     },
     "output_type": "display_data"
    }
   ],
   "source": [
    "plt.scatter(df['GrLivArea'],df[feature[-1]])"
   ]
  },
  {
   "cell_type": "code",
   "execution_count": 154,
   "metadata": {},
   "outputs": [
    {
     "data": {
      "text/plain": [
       "<matplotlib.collections.PathCollection at 0x13c3e1f0>"
      ]
     },
     "execution_count": 154,
     "metadata": {},
     "output_type": "execute_result"
    },
    {
     "data": {
      "image/png": "[encoded data removed]",
      "text/plain": [
       "<Figure size 432x288 with 1 Axes>"
      ]
     },
     "metadata": {
      "needs_background": "light"
     },
     "output_type": "display_data"
    }
   ],
   "source": [
    "plt.scatter(df['YearBuilt'],df[feature[-1]])"
   ]
  },
  {
   "cell_type": "code",
   "execution_count": 155,
   "metadata": {},
   "outputs": [
    {
     "data": {
      "text/plain": [
       "<matplotlib.collections.PathCollection at 0x13c7e990>"
      ]
     },
     "execution_count": 155,
     "metadata": {},
     "output_type": "execute_result"
    },
    {
     "data": {
      "image/png": "[encoded data removed]",
      "text/plain": [
       "<Figure size 432x288 with 1 Axes>"
      ]
     },
     "metadata": {
      "needs_background": "light"
     },
     "output_type": "display_data"
    }
   ],
   "source": [
    "plt.scatter(df['OverallCond'],df[feature[-1]])"
   ]
  },
  {
   "cell_type": "code",
   "execution_count": 156,
   "metadata": {},
   "outputs": [],
   "source": [
    "x=df[['GrLivArea','YearBuilt']]\n",
    "y=df[feature[-1]]\n",
    "\n",
    "from sklearn.model_selection import train_test_split\n",
    "#help(train_test_split)\n",
    "x_train,x_test,y_train,y_test=train_test_split(x,y,test_size=0.3)"
   ]
  },
  {
   "cell_type": "code",
   "execution_count": 157,
   "metadata": {},
   "outputs": [
    {
     "data": {
      "text/html": [
       "<div>\n",
       "<style scoped>\n",
       "    .dataframe tbody tr th:only-of-type {\n",
       "        vertical-align: middle;\n",
       "    }\n",
       "\n",
       "    .dataframe tbody tr th {\n",
       "        vertical-align: top;\n",
       "    }\n",
       "\n",
       "    .dataframe thead th {\n",
       "        text-align: right;\n",
       "    }\n",
       "</style>\n",
       "<table border=\"1\" class=\"dataframe\">\n",
       "  <thead>\n",
       "    <tr style=\"text-align: right;\">\n",
       "      <th></th>\n",
       "      <th>GrLivArea</th>\n",
       "      <th>YearBuilt</th>\n",
       "    </tr>\n",
       "  </thead>\n",
       "  <tbody>\n",
       "    <tr>\n",
       "      <td>839</td>\n",
       "      <td>1200</td>\n",
       "      <td>1946</td>\n",
       "    </tr>\n",
       "    <tr>\n",
       "      <td>912</td>\n",
       "      <td>1015</td>\n",
       "      <td>1925</td>\n",
       "    </tr>\n",
       "    <tr>\n",
       "      <td>166</td>\n",
       "      <td>1867</td>\n",
       "      <td>1955</td>\n",
       "    </tr>\n",
       "    <tr>\n",
       "      <td>646</td>\n",
       "      <td>1048</td>\n",
       "      <td>1950</td>\n",
       "    </tr>\n",
       "    <tr>\n",
       "      <td>741</td>\n",
       "      <td>912</td>\n",
       "      <td>1961</td>\n",
       "    </tr>\n",
       "    <tr>\n",
       "      <td>...</td>\n",
       "      <td>...</td>\n",
       "      <td>...</td>\n",
       "    </tr>\n",
       "    <tr>\n",
       "      <td>543</td>\n",
       "      <td>767</td>\n",
       "      <td>1998</td>\n",
       "    </tr>\n",
       "    <tr>\n",
       "      <td>112</td>\n",
       "      <td>2696</td>\n",
       "      <td>2007</td>\n",
       "    </tr>\n",
       "    <tr>\n",
       "      <td>797</td>\n",
       "      <td>773</td>\n",
       "      <td>1953</td>\n",
       "    </tr>\n",
       "    <tr>\n",
       "      <td>1231</td>\n",
       "      <td>1190</td>\n",
       "      <td>1962</td>\n",
       "    </tr>\n",
       "    <tr>\n",
       "      <td>587</td>\n",
       "      <td>860</td>\n",
       "      <td>1982</td>\n",
       "    </tr>\n",
       "  </tbody>\n",
       "</table>\n",
       "<p>1022 rows × 2 columns</p>\n",
       "</div>"
      ],
      "text/plain": [
       "      GrLivArea  YearBuilt\n",
       "839        1200       1946\n",
       "912        1015       1925\n",
       "166        1867       1955\n",
       "646        1048       1950\n",
       "741         912       1961\n",
       "...         ...        ...\n",
       "543         767       1998\n",
       "112        2696       2007\n",
       "797         773       1953\n",
       "1231       1190       1962\n",
       "587         860       1982\n",
       "\n",
       "[1022 rows x 2 columns]"
      ]
     },
     "execution_count": 157,
     "metadata": {},
     "output_type": "execute_result"
    }
   ],
   "source": [
    "from sklearn.linear_model import LinearRegression\n",
    "clf=LinearRegression()\n",
    "#clf.fit(x_train,y_train)\n",
    "x_train"
   ]
  },
  {
   "cell_type": "code",
   "execution_count": 158,
   "metadata": {},
   "outputs": [
    {
     "data": {
      "text/plain": [
       "LinearRegression(copy_X=True, fit_intercept=True, n_jobs=None, normalize=False)"
      ]
     },
     "execution_count": 158,
     "metadata": {},
     "output_type": "execute_result"
    }
   ],
   "source": [
    "clf.fit(x_train,y_train)"
   ]
  },
  {
   "cell_type": "code",
   "execution_count": 159,
   "metadata": {},
   "outputs": [
    {
     "data": {
      "text/plain": [
       "0.5653285319625182"
      ]
     },
     "execution_count": 159,
     "metadata": {},
     "output_type": "execute_result"
    }
   ],
   "source": [
    "clf.score(x_test,y_test)"
   ]
  },
  {
   "cell_type": "code",
   "execution_count": 160,
   "metadata": {},
   "outputs": [
    {
     "data": {
      "text/plain": [
       "array([100072.08005329, 144010.72350501, 236719.45389098, 118174.11925697,\n",
       "       133592.76376565, 154542.03949269, 116810.67193436, 232024.23018974,\n",
       "       251794.85731195, 150242.12863057, 260512.79379863, 212942.31235864,\n",
       "       151053.08644335, 242726.37363559, 113386.17572467,  48433.4792341 ,\n",
       "       178161.05912727, 194861.23004438, 270188.06585193, 122229.85354792,\n",
       "       145994.93046418, 308355.39432904,  66708.25253948, 177996.5763546 ,\n",
       "       204473.6314294 , 120008.4556474 , 193518.41913904, 233593.43311957,\n",
       "       115518.66708121, 181459.81400039, 190491.78335633, 224676.72665548,\n",
       "       185431.72073363, 209772.47116483, 189527.4621599 , 137691.99800683,\n",
       "       261843.21961573, 168724.5641867 ,  84813.78455806, 144830.25311897,\n",
       "       151490.95400565, 312930.59662431, 243463.98233537,  60401.59165739,\n",
       "       222500.41487655, 122454.65940104,  96394.83547126, 253088.44833647,\n",
       "       130135.24605045, 239502.23357469, 207092.56928474, 240173.79926343,\n",
       "       143620.16918001, 328382.26263851, 103280.34221104, 247336.50407991,\n",
       "       310724.43568262, 202881.56496661, 280836.23090284, 260866.83380322,\n",
       "       181846.87551049, 167859.62797898, 243662.75231278, 150615.21888106,\n",
       "       177867.98314744, 112577.12455542, 224141.38074801, 215107.82522069,\n",
       "       227044.50230984, 193919.45190876, 159145.1843072 , 142927.96707399,\n",
       "        88328.77348311, 199432.93952475, 140694.50455737, 237976.85106724,\n",
       "       192423.59809193, 179852.1901066 , 152151.72077753, 194953.62940328,\n",
       "       150092.57853399, 126022.04054965, 205076.92699143, 133106.31726685,\n",
       "       236219.35660472, 156189.6705218 , 147373.93521779, 209066.2977992 ,\n",
       "       143719.55416871, 115038.88574006, 170061.97563361, 375905.75131337,\n",
       "       232922.18790297, 114756.6086771 , 198805.19425839, 282705.17497016,\n",
       "       114822.97216028, 129251.25959683, 221393.52921335, 118379.87486419,\n",
       "       143273.11480523, 124794.49253616, 193264.08459532, 182335.22865282,\n",
       "        80046.79791519, 193780.05978473, 199688.86023985, 204229.45485823,\n",
       "       219196.58101716, 192444.2345092 , 183400.52100932,  86334.08807923,\n",
       "       160557.53103848, 186317.61383078, 255873.13466371, 227850.06066418,\n",
       "       160088.5486142 , 207263.39674291, 217988.08324956, 154976.09376793,\n",
       "       238179.11385955, 200677.63114061, 165380.40271982, 239547.64016845,\n",
       "       227661.76913149, 152209.19198737, 221731.69131479, 224254.73699633,\n",
       "       190687.06051883, 178764.03421714, 155786.73110855, 207943.21376069,\n",
       "       102056.28701246, 179461.6357816 , 242222.46306226, 241755.06680935,\n",
       "       128513.65089705, 108055.9006551 , 117026.90598629, 311929.44063531,\n",
       "       132516.99296444, 223267.8727391 , 122845.21372604,  79776.58546832,\n",
       "       139864.4964987 , 112869.8800631 , 182186.94425545, 321882.23123744,\n",
       "       144782.93988168, 237181.77115761, 293419.70350425, 238594.11788889,\n",
       "       201300.29742069, 114400.98250114, 164745.67182365,  93554.26410555,\n",
       "       115032.2205824 , 125312.37436911, 250222.16156722, 245094.14928995,\n",
       "       255166.96129807, 225067.28098048, 254854.83507234, 147227.55746395,\n",
       "       238065.43713907, 133540.37154208, 174488.89353151, 147351.71262914,\n",
       "       146354.3699272 , 118732.00822524, 298964.30598223, 234820.98113306,\n",
       "       195764.2667439 , 203760.1519618 , 113818.64382853, 251493.20953094,\n",
       "       201317.76149522, 120799.72226996, 137911.72487367, 127470.90160135,\n",
       "       147351.71262914, 227850.06066418, 226568.53425575, 187112.05279609,\n",
       "       208775.12846289, 183102.36604321,  92211.77367236, 251848.83570689,\n",
       "       235811.33820519, 144812.78904445, 148531.94740534, 108880.50925534,\n",
       "       175153.1531183 , 256779.34370597, 136262.18720103, 235584.62570854,\n",
       "       151563.98264649,  58832.38872756, 188507.57639716, 148817.71728321,\n",
       "       304547.32942416, 213946.64069039, 256575.81521444, 114969.34991412,\n",
       "       137948.23919409,  72753.27277588, 306765.23450978, 129788.19167568,\n",
       "       201270.44825793, 267621.52022016, 191612.31980699, 140378.88551674,\n",
       "       113027.05673381, 214745.21341492, 119024.76373292,  67027.36439502,\n",
       "       105491.26166686, 222699.50532612, 243851.04384547,  95894.41771283,\n",
       "       227457.59969565, 142519.94867446, 119063.18469687, 213148.06796585,\n",
       "       159532.2458173 , 102858.3525519 , 241434.36878244, 154165.45642731,\n",
       "       298015.86268895, 231834.03201351, 222050.80317033, 131817.48475645,\n",
       "       222945.26806866, 124227.71129455, 253515.83745405, 313687.25556999,\n",
       "       223892.12519056, 292945.32162154, 145602.46949564, 237603.76081676,\n",
       "        74761.92943938, 102463.98493983, 168408.94514607, 208014.65623015,\n",
       "       280578.08307206, 223853.70422661, 199264.96393717, 124573.17949795,\n",
       "       151490.95400565, 189110.87195919, 272480.90622193, 137996.8181306 ,\n",
       "       258176.45347841, 146824.93852286, 236013.6009975 , 102467.79822689,\n",
       "       105233.11383607, 229649.46890556,  50853.64711203, 158017.02128242,\n",
       "       268817.63289951, 249892.57126696, 131892.74051298, 177941.33226043,\n",
       "       193058.3289881 , 206262.56122607, 173486.47184329, 154360.41311765,\n",
       "       189553.49803561, 241575.66755   , 157317.83354659, 113480.16125494,\n",
       "       151490.95400565,  78493.15241636, 216258.53130628, 129040.10453118,\n",
       "       234015.42277871, 194367.79791577,  41288.23849215, 147351.71262914,\n",
       "       263220.63819796, 236871.23110326, 193672.10299485, 239474.6115276 ,\n",
       "       124726.5428816 , 148052.48653634, 270404.29990386, 113051.18596599,\n",
       "       261499.65805586, 110135.99978806, 135658.57116685, 154412.80534122,\n",
       "       296533.65965958, 132918.02573415, 163891.21406064, 211050.50475836,\n",
       "       182516.53455571, 276644.59730277, 124541.74416381, 201779.11734538,\n",
       "       248520.23167101,  67159.77088924, 239971.53647112, 147351.71262914,\n",
       "       239858.1802228 , 236902.6664374 , 530789.47749249, 164058.54870391,\n",
       "       139939.43178307, 225461.32812039, 115912.71422112, 226524.71383336,\n",
       "       197185.18527636, 142809.53183938, 283296.4059161 , 195389.26984989,\n",
       "       232801.52555269, 336538.81734201, 237788.55953455, 205790.08598688,\n",
       "       175214.11714305, 250841.01456024, 210645.97917374, 163321.26047628,\n",
       "       123708.24329023, 268995.44598749, 191684.08274862, 140889.78171987,\n",
       "       239783.24493843, 114031.38506556, 171981.08480881, 136858.49713325,\n",
       "        85303.72387177, 183062.03843573, 211557.9081466 , 257775.42070869,\n",
       "       158145.93496173, 214082.53999951, 211564.8937764 , 204407.26794621,\n",
       "       327235.04936782, 209559.72992781,  83106.77567558, 120086.88374667,\n",
       "       186507.49153484, 215629.19986854, 168658.20070351, 191602.16183444,\n",
       "       204573.0164181 , 335192.83409392, 260762.04935608, 111579.78185348,\n",
       "       150176.08561954, 216097.86182067, 115021.74213769, 233813.1599864 ,\n",
       "       219506.80059936, 245544.08146834, 233164.45783061, 261452.66529073,\n",
       "       159786.90083318, 179259.37298929, 184980.20238387, 197014.03734604,\n",
       "       121847.8710241 , 165568.69425252, 206884.90703399,  95278.73706256,\n",
       "       264491.68616168, 123997.82645516,  76425.11789948, 149367.03445029,\n",
       "       253093.84779491,  69921.59368351, 211502.02310812, 147351.71262914,\n",
       "       234810.50268834, 127537.26508454, 240051.55074177, 169981.32041865,\n",
       "       149314.64222672, 110657.37443591, 245547.57428324, 159302.04050575,\n",
       "       198210.47049754, 137344.94363206, 132119.45300962, 143267.7153468 ,\n",
       "       189891.9806092 , 143297.56450956, 264097.63902177,  67784.0233407 ,\n",
       "       242027.18589976, 147524.12625869,  79874.06381349, 162125.14779694,\n",
       "       259074.41119165, 107423.07640245, 204569.5236032 , 196329.14134198,\n",
       "       160515.61725962, 139254.21530686, 139707.64030014, 123328.16740994,\n",
       "       266528.28534442, 158388.20488937, 347527.05113789, 210645.97917374,\n",
       "       265623.34200138,  59521.09801867, 203204.16963706, 137078.22400009,\n",
       "       107485.94707074, 262802.14135372, 200029.24945697, 303006.06901356,\n",
       "       253133.85493023, 185618.42609495, 225156.18752447, 173788.11962431,\n",
       "       170865.62734442, 121553.20887289, 305785.35588236, 189140.08017765,\n",
       "       262929.46886166, 211156.87537688, 104340.23510911, 134039.20312913,\n",
       "       179281.91605009, 210769.81386678, 188514.56202697, 244436.87533298,\n",
       "       215416.45863151, 228777.54706803, 213233.48169494, 117863.89967477,\n",
       "       114526.08289339, 200590.63124015])"
      ]
     },
     "execution_count": 160,
     "metadata": {},
     "output_type": "execute_result"
    }
   ],
   "source": [
    "clf.predict(x_test)"
   ]
  },
  {
   "cell_type": "code",
   "execution_count": 161,
   "metadata": {},
   "outputs": [
    {
     "data": {
      "text/plain": [
       "1294    115000\n",
       "410      60000\n",
       "113     217000\n",
       "1143     80000\n",
       "979     139000\n",
       "         ...  \n",
       "1245    178000\n",
       "302     205000\n",
       "372     125000\n",
       "991     168000\n",
       "84      168500\n",
       "Name: SalePrice, Length: 438, dtype: int64"
      ]
     },
     "execution_count": 161,
     "metadata": {},
     "output_type": "execute_result"
    }
   ],
   "source": [
    "y_test"
   ]
  },
  {
   "cell_type": "code",
   "execution_count": 162,
   "metadata": {},
   "outputs": [],
   "source": [
    "from sklearn.ensemble import GradientBoostingRegressor\n",
    "reg=GradientBoostingRegressor(loss='ls', learning_rate=0.1, n_estimators=100, subsample=1.0, criterion='friedman_mse', min_samples_split=2, min_samples_leaf=1)"
   ]
  },
  {
   "cell_type": "code",
   "execution_count": 163,
   "metadata": {},
   "outputs": [
    {
     "data": {
      "text/plain": [
       "GradientBoostingRegressor(alpha=0.9, criterion='friedman_mse', init=None,\n",
       "                          learning_rate=0.1, loss='ls', max_depth=3,\n",
       "                          max_features=None, max_leaf_nodes=None,\n",
       "                          min_impurity_decrease=0.0, min_impurity_split=None,\n",
       "                          min_samples_leaf=1, min_samples_split=2,\n",
       "                          min_weight_fraction_leaf=0.0, n_estimators=100,\n",
       "                          n_iter_no_change=None, presort='auto',\n",
       "                          random_state=None, subsample=1.0, tol=0.0001,\n",
       "                          validation_fraction=0.1, verbose=0, warm_start=False)"
      ]
     },
     "execution_count": 163,
     "metadata": {},
     "output_type": "execute_result"
    }
   ],
   "source": [
    "reg.fit(x_train,y_train)"
   ]
  },
  {
   "cell_type": "code",
   "execution_count": null,
   "metadata": {},
   "outputs": [],
   "source": [
    "reg.score(x_test,)"
   ]
  }
 ],
 "metadata": {
  "kernelspec": {
   "display_name": "Python 3",
   "language": "python",
   "name": "python3"
  },
  "language_info": {
   "codemirror_mode": {
    "name": "ipython",
    "version": 3
   },
   "file_extension": ".py",
   "mimetype": "text/x-python",
   "name": "python",
   "nbconvert_exporter": "python",
   "pygments_lexer": "ipython3",
   "version": "3.7.3"
  }
 },
 "nbformat": 4,
 "nbformat_minor": 2
}
